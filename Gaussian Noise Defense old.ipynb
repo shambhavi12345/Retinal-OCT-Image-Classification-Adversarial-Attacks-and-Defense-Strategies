{
 "cells": [
  {
   "cell_type": "code",
   "execution_count": 11,
   "id": "02b4c057",
   "metadata": {},
   "outputs": [],
   "source": [
    "class_names = ['CNV', 'DME', 'DRUSEN', 'NORMAL']\n",
    "class_names_label = {class_name: i for i, class_name in enumerate(class_names)}\n",
    "\n",
    "IMAGE_SIZE = (150, 150)"
   ]
  },
  {
   "cell_type": "code",
   "execution_count": 12,
   "id": "34f63d4c",
   "metadata": {},
   "outputs": [
    {
     "name": "stderr",
     "output_type": "stream",
     "text": [
      "C:\\Users\\sihus\\anaconda3\\lib\\site-packages\\scipy\\__init__.py:146: UserWarning: A NumPy version >=1.16.5 and <1.23.0 is required for this version of SciPy (detected version 1.26.4\n",
      "  warnings.warn(f\"A NumPy version >={np_minversion} and <{np_maxversion}\"\n"
     ]
    }
   ],
   "source": [
    "import tensorflow as tf\n",
    "from tensorflow.keras.layers import Conv2D, MaxPool2D, Dense, Flatten\n",
    "import numpy as np\n",
    "import matplotlib.pyplot as plt\n",
    "import matplotlib\n",
    "import pandas as pd\n",
    "import os\n",
    "import skimage\n",
    "from skimage.transform import resize\n",
    "from sklearn.metrics import classification_report\n",
    "import seaborn as sn; sn.set(font_scale=1.4)\n",
    "from sklearn.utils import shuffle\n",
    "import matplotlib.pyplot as plt\n",
    "import cv2\n",
    "import tensorflow as tf\n",
    "from tqdm import tqdm\n",
    "from art.estimators.classification import KerasClassifier\n",
    "from art.attacks.evasion import FastGradientMethod\n",
    "from art.utils import load_dataset\n",
    "\n",
    "# Disabling eager execution from TF 2\n",
    "tf.compat.v1.disable_eager_execution()\n",
    "\n",
    "# Increasing Matplotlib font size\n",
    "matplotlib.rcParams.update({\"font.size\": 14})"
   ]
  },
  {
   "cell_type": "code",
   "execution_count": 13,
   "id": "2d31f511",
   "metadata": {},
   "outputs": [],
   "source": [
    "def load_data():\n",
    "    DIRECTORY = r\"C:\\dataset\"\n",
    "    CATEGORY = [\"train\", \"test\"]\n",
    "    \n",
    "    output = []\n",
    "    \n",
    "    for category in CATEGORY:\n",
    "        path = os.path.join(DIRECTORY, category)\n",
    "        images = []\n",
    "        labels = []\n",
    "        \n",
    "        print(\"Loading {}\".format(category))\n",
    "        \n",
    "        for folder in os.listdir(path):\n",
    "            label = class_names.index(folder)\n",
    "            \n",
    "            for file in os.listdir(os.path.join(path, folder)):\n",
    "                img_path = os.path.join(os.path.join(path, folder), file)\n",
    "                \n",
    "                image = cv2.imread(img_path)\n",
    "                image = cv2.cvtColor(image, cv2.COLOR_BGR2RGB)\n",
    "                image = cv2.resize(image, IMAGE_SIZE)\n",
    "                \n",
    "                images.append(image)\n",
    "                labels.append(label)\n",
    "                \n",
    "        images = np.array(images, dtype='float32')\n",
    "        labels = np.array(labels, dtype='int32')\n",
    "        \n",
    "        output.append((images, labels))\n",
    "        \n",
    "    return output\n"
   ]
  },
  {
   "cell_type": "code",
   "execution_count": 14,
   "id": "25480258",
   "metadata": {},
   "outputs": [
    {
     "name": "stdout",
     "output_type": "stream",
     "text": [
      "Loading train\n",
      "Loading test\n"
     ]
    }
   ],
   "source": [
    "(train_images,train_labels),(test_images,test_labels)=load_data()"
   ]
  },
  {
   "cell_type": "code",
   "execution_count": 15,
   "id": "15588a69",
   "metadata": {},
   "outputs": [],
   "source": [
    "train_images,train_labels=shuffle(train_images,train_labels,random_state=25)"
   ]
  },
  {
   "cell_type": "code",
   "execution_count": 16,
   "id": "e1964245",
   "metadata": {},
   "outputs": [
    {
     "name": "stdout",
     "output_type": "stream",
     "text": [
      "WARNING:tensorflow:From C:\\Users\\sihus\\anaconda3\\lib\\site-packages\\keras\\layers\\normalization\\batch_normalization.py:562: _colocate_with (from tensorflow.python.framework.ops) is deprecated and will be removed in a future version.\n",
      "Instructions for updating:\n",
      "Colocations handled automatically by placer.\n"
     ]
    }
   ],
   "source": [
    "from tensorflow.keras.models import load_model\n",
    "\n",
    "# Load the model\n",
    "model = load_model('updated_model.h5')\n"
   ]
  },
  {
   "cell_type": "code",
   "execution_count": 17,
   "id": "9ffee5f9",
   "metadata": {},
   "outputs": [],
   "source": [
    "# Creating a classifier by wrapping our TF model in ART's KerasClassifier class\n",
    "classifier = KerasClassifier(\n",
    "    model=model,              # indicates our model\n",
    "    clip_values=(0, 255)    # minimum and maximum values allowed for features\n",
    "    )"
   ]
  },
  {
   "cell_type": "code",
   "execution_count": null,
   "id": "2b874ac5",
   "metadata": {},
   "outputs": [],
   "source": []
  },
  {
   "cell_type": "code",
   "execution_count": 18,
   "id": "ded134ca",
   "metadata": {},
   "outputs": [],
   "source": [
    "from art.defences.postprocessor import GaussianNoise\n",
    "gaussn_def = GaussianNoise(apply_fit = False, apply_predict = True)"
   ]
  },
  {
   "cell_type": "code",
   "execution_count": 19,
   "id": "40765233",
   "metadata": {},
   "outputs": [],
   "source": [
    "def create_model():\n",
    "    modelx = tf.keras.models.Sequential([\n",
    "        Conv2D(filters=32, kernel_size=3, activation=\"relu\", input_shape=(150, 150, 3)),\n",
    "        MaxPool2D(pool_size=2),\n",
    "        Conv2D(filters=64, kernel_size=3, activation=\"relu\"),\n",
    "        MaxPool2D(pool_size=2),\n",
    "        Flatten(),        \n",
    "        Dense(units=10, activation=\"softmax\")\n",
    "    ])\n",
    "\n",
    "    modelx.compile(\n",
    "        optimizer=\"adam\",\n",
    "        loss=\"sparse_categorical_crossentropy\",\n",
    "        metrics=[\"accuracy\"]\n",
    "        )\n",
    "    return modelx\n"
   ]
  },
  {
   "cell_type": "code",
   "execution_count": 20,
   "id": "776cd253",
   "metadata": {},
   "outputs": [
    {
     "name": "stdout",
     "output_type": "stream",
     "text": [
      "Train on 14611 samples\n",
      "Epoch 1/10\n",
      "14611/14611 [==============================] - 183s 13ms/sample - loss: 20.6093 - accuracy: 0.3280\n",
      "Epoch 2/10\n",
      "14611/14611 [==============================] - 100s 7ms/sample - loss: 1.0886 - accuracy: 0.5288\n",
      "Epoch 3/10\n",
      "14611/14611 [==============================] - 100s 7ms/sample - loss: 1.1055 - accuracy: 0.5415\n",
      "Epoch 4/10\n",
      "14611/14611 [==============================] - 101s 7ms/sample - loss: 0.9425 - accuracy: 0.6119\n",
      "Epoch 5/10\n",
      "14611/14611 [==============================] - 102s 7ms/sample - loss: 0.8938 - accuracy: 0.6312\n",
      "Epoch 6/10\n",
      "14611/14611 [==============================] - 100s 7ms/sample - loss: 0.8291 - accuracy: 0.6700\n",
      "Epoch 7/10\n",
      "14611/14611 [==============================] - 100s 7ms/sample - loss: 0.7641 - accuracy: 0.6975\n",
      "Epoch 8/10\n",
      "14611/14611 [==============================] - 109s 7ms/sample - loss: 0.7054 - accuracy: 0.7225\n",
      "Epoch 9/10\n",
      "14611/14611 [==============================] - 109s 7ms/sample - loss: 0.7003 - accuracy: 0.7255\n",
      "Epoch 10/10\n",
      "14611/14611 [==============================] - 114s 8ms/sample - loss: 0.6162 - accuracy: 0.7619\n"
     ]
    },
    {
     "data": {
      "text/plain": [
       "<keras.callbacks.History at 0x2b908d69a30>"
      ]
     },
     "execution_count": 20,
     "metadata": {},
     "output_type": "execute_result"
    }
   ],
   "source": [
    "# Instantiating the model\n",
    "modelx = create_model()\n",
    "\n",
    "# Training the model\n",
    "modelx.fit(\n",
    "    x=train_images, \n",
    "    y=train_labels, \n",
    "    epochs=10,\n",
    "    batch_size=256)\n"
   ]
  },
  {
   "cell_type": "code",
   "execution_count": 21,
   "id": "dcd2d34f",
   "metadata": {},
   "outputs": [],
   "source": [
    "def candidate_data(test_images, test_labels, n):\n",
    "    cx_test = []\n",
    "    cy_test = []\n",
    "\n",
    "    unique_classes = np.unique(test_labels)  # Get the unique classes in y_test\n",
    "    \n",
    "    for class_label in unique_classes:\n",
    "        indices = np.where(test_labels == class_label)[0]  # Find indices where class_label occurs\n",
    "        selected_indices = indices[:n]  # Select the first n indices\n",
    "\n",
    "        cx_test.append(test_images[selected_indices].copy())\n",
    "        cy_test.append(test_labels[selected_indices].copy())\n",
    "\n",
    "    cx_test = np.concatenate(cx_test)\n",
    "    cy_test = np.concatenate(cy_test)\n",
    "\n",
    "    return cx_test, cy_test\n"
   ]
  },
  {
   "cell_type": "code",
   "execution_count": 22,
   "id": "8177416f",
   "metadata": {},
   "outputs": [],
   "source": [
    "sample_test, sample_label=candidate_data(test_images, test_labels, 10)"
   ]
  },
  {
   "cell_type": "code",
   "execution_count": 23,
   "id": "730fff3c",
   "metadata": {},
   "outputs": [],
   "source": [
    "def implement_attack(model, attack, sample_test, test_labels, attack_name):\n",
    "    # Generate the adversarial examples\n",
    "    x_test_adv = attack.generate(sample_test)\n",
    "    performance_metrics = model.evaluate(x_test_adv, test_labels)\n",
    "    predictions = model.predict(x_test_adv)\n",
    "\n",
    "    # Convert 1-dimensional arrays to 2-dimensional\n",
    "    if len(test_labels.shape) == 1:\n",
    "        test_labels = np.expand_dims(test_labels, axis=1)\n",
    "    if len(predictions.shape) == 1:\n",
    "        predictions = np.expand_dims(predictions, axis=1)\n",
    "\n",
    "    report = classification_report(\n",
    "        np.argmax(test_labels, axis=1),\n",
    "        np.argmax(predictions, axis=1),\n",
    "        output_dict=True\n",
    "    )\n",
    "\n",
    "    report = report['weighted avg']\n",
    "    report.update({'Loss': performance_metrics[0]})\n",
    "    report.update({'Accuracy': performance_metrics[1]})\n",
    "    report.update({'Attack': attack_name})\n",
    "\n",
    "    return report, x_test_adv, predictions\n"
   ]
  },
  {
   "cell_type": "code",
   "execution_count": 24,
   "id": "6f6ec2d6",
   "metadata": {},
   "outputs": [],
   "source": [
    "model.compile(optimizer='adam', loss='sparse_categorical_crossentropy', metrics=['accuracy'])"
   ]
  },
  {
   "cell_type": "code",
   "execution_count": 25,
   "id": "57b3df91",
   "metadata": {},
   "outputs": [],
   "source": [
    "# Create a ART TensorFlow v2 classifier for the target TensorFlow model\n",
    "artclassifier = KerasClassifier(model=model, \n",
    "                                    clip_values=(0, 255), channels_first=False)"
   ]
  },
  {
   "cell_type": "code",
   "execution_count": 26,
   "id": "5223e5ed",
   "metadata": {},
   "outputs": [],
   "source": [
    "from art.attacks.evasion import DeepFool"
   ]
  },
  {
   "cell_type": "code",
   "execution_count": 27,
   "id": "89f8a8e6",
   "metadata": {},
   "outputs": [],
   "source": [
    "sample_test, sample_label=candidate_data(test_images, test_labels, 10)"
   ]
  },
  {
   "cell_type": "code",
   "execution_count": 28,
   "id": "f7c7ab39",
   "metadata": {},
   "outputs": [],
   "source": [
    "attack_deepf = DeepFool(classifier=artclassifier, max_iter=10, batch_size=20,epsilon=0.01)"
   ]
  },
  {
   "cell_type": "code",
   "execution_count": 29,
   "id": "e84972da",
   "metadata": {},
   "outputs": [
    {
     "name": "stderr",
     "output_type": "stream",
     "text": [
      "C:\\Users\\sihus\\anaconda3\\lib\\site-packages\\keras\\engine\\training_v1.py:2356: UserWarning: `Model.state_updates` will be removed in a future version. This property should not be used in TensorFlow 2.0, as `updates` are applied automatically.\n",
      "  updates=self.state_updates,\n"
     ]
    },
    {
     "data": {
      "application/vnd.jupyter.widget-view+json": {
       "model_id": "dc13cee9996a42bd8b53ca5dc9095397",
       "version_major": 2,
       "version_minor": 0
      },
      "text/plain": [
       "DeepFool:   0%|          | 0/2 [00:00<?, ?it/s]"
      ]
     },
     "metadata": {},
     "output_type": "display_data"
    },
    {
     "name": "stderr",
     "output_type": "stream",
     "text": [
      "C:\\Users\\sihus\\anaconda3\\lib\\site-packages\\keras\\engine\\training_v1.py:2332: UserWarning: `Model.state_updates` will be removed in a future version. This property should not be used in TensorFlow 2.0, as `updates` are applied automatically.\n",
      "  updates = self.state_updates\n",
      "C:\\Users\\sihus\\anaconda3\\lib\\site-packages\\sklearn\\metrics\\_classification.py:1318: UndefinedMetricWarning: Recall and F-score are ill-defined and being set to 0.0 in labels with no true samples. Use `zero_division` parameter to control this behavior.\n",
      "  _warn_prf(average, modifier, msg_start, len(result))\n",
      "C:\\Users\\sihus\\anaconda3\\lib\\site-packages\\sklearn\\metrics\\_classification.py:1318: UndefinedMetricWarning: Recall and F-score are ill-defined and being set to 0.0 in labels with no true samples. Use `zero_division` parameter to control this behavior.\n",
      "  _warn_prf(average, modifier, msg_start, len(result))\n",
      "C:\\Users\\sihus\\anaconda3\\lib\\site-packages\\sklearn\\metrics\\_classification.py:1318: UndefinedMetricWarning: Recall and F-score are ill-defined and being set to 0.0 in labels with no true samples. Use `zero_division` parameter to control this behavior.\n",
      "  _warn_prf(average, modifier, msg_start, len(result))\n"
     ]
    }
   ],
   "source": [
    "report, x_test_adv, predictions = implement_attack(model, attack=attack_deepf, sample_test=sample_test, test_labels=sample_label, attack_name='Deepfool attack')\n",
    "perturbation = np.mean(np.abs((x_test_adv - sample_test)))\n",
    "report['perturbation']=perturbation\n"
   ]
  },
  {
   "cell_type": "code",
   "execution_count": 30,
   "id": "1865d0d5",
   "metadata": {},
   "outputs": [
    {
     "name": "stdout",
     "output_type": "stream",
     "text": [
      "Adversarial test image\n",
      "Actual label: CNV\n",
      "Predicted label: DRUSEN\n"
     ]
    },
    {
     "data": {
      "image/png": "[encoded data removed]",
      "text/plain": [
       "<Figure size 288x288 with 1 Axes>"
      ]
     },
     "metadata": {},
     "output_type": "display_data"
    }
   ],
   "source": [
    "actual_label_index = test_labels[0]  \n",
    "actual_label_name = class_names[actual_label_index]\n",
    "\n",
    "predicted_label_index = np.argmax(predictions[0])\n",
    "predicted_label_name = class_names[predicted_label_index]\n",
    "\n",
    "print(\"Adversarial test image\")\n",
    "print(\"Actual label: {}\".format(actual_label_name))\n",
    "print(\"Predicted label: {}\".format(predicted_label_name))\n",
    "\n",
    "normalized_image = x_test_adv[0] / 255.0\n",
    "plt.matshow(normalized_image)\n",
    "plt.show()\n"
   ]
  },
  {
   "cell_type": "code",
   "execution_count": null,
   "id": "e87ceed9",
   "metadata": {},
   "outputs": [],
   "source": []
  },
  {
   "cell_type": "code",
   "execution_count": null,
   "id": "dc677ff9",
   "metadata": {},
   "outputs": [],
   "source": []
  },
  {
   "cell_type": "code",
   "execution_count": 31,
   "id": "9aba7f8c",
   "metadata": {},
   "outputs": [],
   "source": [
    "from art.estimators.classification import TensorFlowV2Classifier"
   ]
  },
  {
   "cell_type": "code",
   "execution_count": 45,
   "id": "ba850217",
   "metadata": {},
   "outputs": [],
   "source": [
    "artclassifierx = TensorFlowV2Classifier(model=modelx, nb_classes=4, input_shape=(150, 150, 3), loss_object=modelx.loss, \n",
    "                                    clip_values=(0, 1), channels_first=False, postprocessing_defences=gaussn_def)"
   ]
  },
  {
   "cell_type": "code",
   "execution_count": 46,
   "id": "95367817",
   "metadata": {},
   "outputs": [
    {
     "data": {
      "text/plain": [
       "(array([[0.5067974 , 0.04756445, 0.15566729, 0.10560397, 0.        ,\n",
       "         0.06488321, 0.        , 0.        , 0.        , 0.11948361]],\n",
       "       dtype=float32),\n",
       " 0)"
      ]
     },
     "execution_count": 46,
     "metadata": {},
     "output_type": "execute_result"
    }
   ],
   "source": [
    "gaussn_def(artclassifierx._model.predict(sample_test[1].reshape(1,150,150,3))), sample_label[1]"
   ]
  },
  {
   "cell_type": "code",
   "execution_count": null,
   "id": "37132389",
   "metadata": {},
   "outputs": [],
   "source": []
  },
  {
   "cell_type": "code",
   "execution_count": 47,
   "id": "7b3d6415",
   "metadata": {},
   "outputs": [
    {
     "name": "stdout",
     "output_type": "stream",
     "text": [
      "Actual accuracy: 0.525\n",
      "Robust accuracy: 0.525\n"
     ]
    }
   ],
   "source": [
    "actual_accuracy = np.mean(np.argmax(predictions, axis=-1) == np.argmax(actual_label_name, axis=-1))\n",
    "print(\"Actual accuracy:\", actual_accuracy)\n",
    "\n",
    "\n",
    "robust_accuracy = np.mean(np.argmax(predictions, axis=-1) == np.argmax(predicted_label_name, axis=-1))\n",
    "print(\"Robust accuracy:\", robust_accuracy)\n"
   ]
  },
  {
   "cell_type": "code",
   "execution_count": null,
   "id": "cbc291db",
   "metadata": {},
   "outputs": [],
   "source": []
  },
  {
   "cell_type": "code",
   "execution_count": 52,
   "id": "aefb21ed",
   "metadata": {},
   "outputs": [],
   "source": [
    "from art.defences.postprocessor import HighConfidence\n",
    "hc_def = HighConfidence(apply_fit = False, apply_predict = True)"
   ]
  },
  {
   "cell_type": "code",
   "execution_count": 53,
   "id": "1c117da8",
   "metadata": {},
   "outputs": [],
   "source": [
    "artclassifierx = TensorFlowV2Classifier(model=modelx, nb_classes=4, input_shape=(150, 150, 3), loss_object=modelx.loss, \n",
    "                                    clip_values=(0, 1), channels_first=False, postprocessing_defences=hc_def)"
   ]
  },
  {
   "cell_type": "code",
   "execution_count": 54,
   "id": "6cec478b",
   "metadata": {},
   "outputs": [
    {
     "data": {
      "text/plain": [
       "(array([[0.9856784, 0.       , 0.       , 0.       , 0.       , 0.       ,\n",
       "         0.       , 0.       , 0.       , 0.       ]], dtype=float32),\n",
       " 0)"
      ]
     },
     "execution_count": 54,
     "metadata": {},
     "output_type": "execute_result"
    }
   ],
   "source": [
    "hc_def(artclassifierx._model.predict(sample_test[1].reshape(1,150,150,3))), sample_label[1]"
   ]
  },
  {
   "cell_type": "code",
   "execution_count": 55,
   "id": "6169756f",
   "metadata": {
    "scrolled": true
   },
   "outputs": [
    {
     "name": "stdout",
     "output_type": "stream",
     "text": [
      "Loss and accuracy of adversarial examples:  [243.07774658203124, 0.325]\n"
     ]
    }
   ],
   "source": [
    "# evaluating the attack samples\n",
    "perf =  artclassifierx._model.evaluate( x_test_adv, sample_label )\n",
    "print( 'Loss and accuracy of adversarial examples: ', perf )"
   ]
  },
  {
   "cell_type": "code",
   "execution_count": null,
   "id": "46dc8619",
   "metadata": {},
   "outputs": [],
   "source": []
  },
  {
   "cell_type": "code",
   "execution_count": 39,
   "id": "de682ea0",
   "metadata": {},
   "outputs": [],
   "source": [
    "from art.defences.postprocessor import ReverseSigmoid\n",
    "rs_def = ReverseSigmoid(apply_fit = False, apply_predict = True)"
   ]
  },
  {
   "cell_type": "code",
   "execution_count": 56,
   "id": "80b7b262",
   "metadata": {},
   "outputs": [],
   "source": [
    "artclassifierx2 = TensorFlowV2Classifier(model=modelx, nb_classes=4, input_shape=(150, 150, 3), loss_object=modelx.loss, \n",
    "                                    clip_values=(0, 1), channels_first=False, postprocessing_defences=rs_def)"
   ]
  },
  {
   "cell_type": "code",
   "execution_count": 57,
   "id": "d180aa69",
   "metadata": {},
   "outputs": [
    {
     "data": {
      "text/plain": [
       "(array([[0.23761216, 0.0321278 , 0.04743738, 0.05495947, 0.10464385,\n",
       "         0.10464385, 0.10464385, 0.10464385, 0.10464385, 0.10464385]],\n",
       "       dtype=float32),\n",
       " 0)"
      ]
     },
     "execution_count": 57,
     "metadata": {},
     "output_type": "execute_result"
    }
   ],
   "source": [
    "rs_def(artclassifierx2._model.predict(sample_test[1].reshape(1,150,150,3))), sample_label[1]"
   ]
  },
  {
   "cell_type": "code",
   "execution_count": 58,
   "id": "81b04a99",
   "metadata": {},
   "outputs": [
    {
     "name": "stdout",
     "output_type": "stream",
     "text": [
      "Loss and accuracy of adversarial examples:  [243.07774658203124, 0.325]\n"
     ]
    }
   ],
   "source": [
    "# evaluating the attack samples\n",
    "perf =  artclassifierx2._model.evaluate( x_test_adv, sample_label )\n",
    "print( 'Loss and accuracy of adversarial examples: ', perf )"
   ]
  },
  {
   "cell_type": "code",
   "execution_count": null,
   "id": "b3cf6a9a",
   "metadata": {},
   "outputs": [],
   "source": []
  },
  {
   "cell_type": "code",
   "execution_count": 43,
   "id": "b868df77",
   "metadata": {},
   "outputs": [],
   "source": [
    "import matplotlib.pyplot as plt"
   ]
  },
  {
   "cell_type": "code",
   "execution_count": 44,
   "id": "23dae9ae",
   "metadata": {},
   "outputs": [
    {
     "data": {
      "image/png": "[encoded data removed]",
      "text/plain": [
       "<Figure size 576x432 with 1 Axes>"
      ]
     },
     "metadata": {},
     "output_type": "display_data"
    }
   ],
   "source": [
    "defense_names = ['Gaussian Noise', 'High Confidence', 'Reverse Sigmoid']\n",
    "accuracies = [0.52, 0.30, 0.30]\n",
    "\n",
    "plt.figure(figsize=(8, 6))\n",
    "plt.bar(defense_names, accuracies, color='green')\n",
    "plt.title('Adversarial Defense Accuracies')\n",
    "plt.xlabel('Defense Name')\n",
    "plt.ylabel('Accuracy')\n",
    "plt.ylim(0, 1)  \n",
    "plt.show()\n"
   ]
  },
  {
   "cell_type": "code",
   "execution_count": null,
   "id": "f4ab2c51",
   "metadata": {},
   "outputs": [],
   "source": []
  }
 ],
 "metadata": {
  "kernelspec": {
   "display_name": "Python 3 (ipykernel)",
   "language": "python",
   "name": "python3"
  },
  "language_info": {
   "codemirror_mode": {
    "name": "ipython",
    "version": 3
   },
   "file_extension": ".py",
   "mimetype": "text/x-python",
   "name": "python",
   "nbconvert_exporter": "python",
   "pygments_lexer": "ipython3",
   "version": "3.9.12"
  },
  "widgets": {
   "application/vnd.jupyter.widget-state+json": {
    "state": {},
    "version_major": 2,
    "version_minor": 0
   }
  }
 },
 "nbformat": 4,
 "nbformat_minor": 5
}
